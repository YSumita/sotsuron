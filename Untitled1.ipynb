{
 "cells": [
  {
   "cell_type": "code",
   "execution_count": null,
   "metadata": {},
   "outputs": [],
   "source": [
    "import numpy as np\n",
    "import os\n",
    "import re"
   ]
  },
  {
   "cell_type": "code",
   "execution_count": null,
   "metadata": {},
   "outputs": [],
   "source": [
    "#氷のない日のデータを90×70×13にする\n",
    "\n",
    "f = open('data/sum.dat')\n",
    "lines2 = f.readlines()\n",
    "f.close\n",
    "\n",
    "noicedays = np.zeros((90,70,13))\n",
    "\n",
    "for line in lines2:\n",
    "    x = line.rstrip('\\n').lstrip(' ')\n",
    "    x = re.split(' +', x)\n",
    "    print(x[1])\n",
    "    noicedays[int(x[2])-1][int(x[3])-1][int(x[4])-1] = float(x[1])\n",
    "    \n",
    "\n"
   ]
  },
  {
   "cell_type": "code",
   "execution_count": null,
   "metadata": {},
   "outputs": [],
   "source": [
    "noicedays[32][43][6]"
   ]
  },
  {
   "cell_type": "code",
   "execution_count": null,
   "metadata": {},
   "outputs": [],
   "source": [
    "array = np.zeros((145,145))"
   ]
  },
  {
   "cell_type": "code",
   "execution_count": null,
   "metadata": {},
   "outputs": [],
   "source": [
    "# 145×145データを90×70にする\n",
    "\n",
    "def data145_to_9070(data):\n",
    "    reshapeddata = np.zeros((90,70))\n",
    "    for i in range(0,90):\n",
    "        for j in range(0,70):\n",
    "            reshapeddata[i][j] = data[31+i][120-j]\n",
    "    return reshapeddata\n",
    "\n"
   ]
  },
  {
   "cell_type": "code",
   "execution_count": null,
   "metadata": {},
   "outputs": [],
   "source": [
    "x =data145_to_9070(array)\n",
    "x.shape"
   ]
  },
  {
   "cell_type": "code",
   "execution_count": null,
   "metadata": {},
   "outputs": [],
   "source": [
    "for year in range(3,19):\n",
    "    if year < 10 :\n",
    "        year = '0' + str(year)\n",
    "    else:\n",
    "        year = str(year)\n",
    "    for month in range(1,13):\n",
    "        if month < 10 :\n",
    "            month = '0' + str(month)\n",
    "        else:\n",
    "            month = str(month)\n",
    "        for date in range(1,32):\n",
    "            if date < 10 :\n",
    "                date = '0' + str(date)\n",
    "            else:\n",
    "                date =str(date)\n",
    "            path = './data/tanenhyo/'+year+month+date+'_mycon145_240.dat'\n",
    "            \n",
    "            if os.path.exists(path):\n",
    "                newpath = './data/tanenhyo_9070/t9070_'+year+month+date+'.dat'\n",
    "                #読み込む\n",
    "                f = open(newpath ,'wb')\n",
    "                print(path)      \n",
    "                #書き出す\n",
    "                \n",
    "                "
   ]
  },
  {
   "cell_type": "code",
   "execution_count": null,
   "metadata": {},
   "outputs": [],
   "source": [
    "#多年氷データから多年氷のなかった日数90×70×13データを作成する\n",
    "\n",
    "tanenhyodata = np.zeros((90,70,13))\n",
    "for y in range(0,13):\n",
    "    if y < 7 :\n",
    "        year = y + 4\n",
    "    else:\n",
    "        year = y + 6\n",
    "    if year < 10:\n",
    "        year = '0' + str(year)\n",
    "    else:\n",
    "        year =str(year)\n",
    "    \n",
    "    #何月から何月まで取るのか\n",
    "    maxmonth = 9\n",
    "    finalday = 10\n",
    "    for m in range(3,maxmonth+1):\n",
    "        month = str(m)\n",
    "        if m < 10 :\n",
    "            month = '0' + month\n",
    "        \n",
    "        for d in range(1,32):\n",
    "            #最終月何日まで取るのか\n",
    "            if m == maxmonth and d > finalday:\n",
    "                break\n",
    "            date = str(d)\n",
    "            if d < 10:\n",
    "                date = '0' + date\n",
    "            path = 'data/tanenhyo/'+year+month+date+'_mycon145_240.dat'\n",
    "            if os.path.exists(path):\n",
    "                data1 = np.fromfile(path, np.int32, -1).reshape(145,145)\n",
    "                \n",
    "                print(path)\n",
    "                for i in range(0,90):\n",
    "                    for j in range(0,70):\n",
    "                        if data1[30+i][119-j] < 15 :\n",
    "                            tanenhyodata[i][j][y]+=1\n",
    "                            "
   ]
  },
  {
   "cell_type": "code",
   "execution_count": null,
   "metadata": {},
   "outputs": [],
   "source": [
    "# tanenhyodata[45][35][11]\n",
    "\n",
    "#正解データが必要"
   ]
  },
  {
   "cell_type": "code",
   "execution_count": null,
   "metadata": {},
   "outputs": [],
   "source": [
    "#氷のなかった日数90×70×13、多年氷のあった日数90×70×13のデータが手に入った場合のモデル作成\n",
    "\n",
    "import dataframe as df\n",
    "\n",
    "for year in range(0,10):\n",
    "    for x in range(0,90):\n",
    "        for y in range(0,70):\n",
    "            "
   ]
  },
  {
   "cell_type": "code",
   "execution_count": null,
   "metadata": {},
   "outputs": [],
   "source": []
  },
  {
   "cell_type": "code",
   "execution_count": null,
   "metadata": {},
   "outputs": [],
   "source": []
  }
 ],
 "metadata": {
  "kernelspec": {
   "display_name": "Python 3",
   "language": "python",
   "name": "python3"
  },
  "language_info": {
   "codemirror_mode": {
    "name": "ipython",
    "version": 3
   },
   "file_extension": ".py",
   "mimetype": "text/x-python",
   "name": "python",
   "nbconvert_exporter": "python",
   "pygments_lexer": "ipython3",
   "version": "3.7.0"
  }
 },
 "nbformat": 4,
 "nbformat_minor": 2
}
